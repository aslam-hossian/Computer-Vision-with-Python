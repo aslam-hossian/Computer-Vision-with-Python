{
 "cells": [
  {
   "cell_type": "markdown",
   "id": "1ad4ba69",
   "metadata": {},
   "source": [
    "# Importing the Required libraries"
   ]
  },
  {
   "cell_type": "code",
   "execution_count": 1,
   "id": "5d441959",
   "metadata": {},
   "outputs": [],
   "source": [
    "import tensorflow as tf\n",
    "import numpy as np\n",
    "import pandas as pd\n",
    "import cv2\n",
    "import os"
   ]
  },
  {
   "cell_type": "code",
   "execution_count": 2,
   "id": "dce8c36a",
   "metadata": {},
   "outputs": [],
   "source": [
    "from sklearn.preprocessing import LabelBinarizer\n",
    "from sklearn.model_selection import train_test_split\n",
    "import matplotlib.pyplot as plt"
   ]
  },
  {
   "cell_type": "code",
   "execution_count": 3,
   "id": "a86ad478",
   "metadata": {},
   "outputs": [],
   "source": [
    "from tensorflow import keras\n",
    "from tensorflow.keras import layers\n",
    "from tensorflow.keras.layers import *\n",
    "from tensorflow.keras.models import *\n",
    "from tensorflow.keras.callbacks import *\n",
    "from tensorflow.keras import backend as K\n",
    "from tensorflow.keras.utils import *\n",
    "from tensorflow.keras.regularizers import * "
   ]
  },
  {
   "cell_type": "markdown",
   "id": "d090e99f",
   "metadata": {},
   "source": [
    "Lets create a custom dataset with own labels"
   ]
  },
  {
   "cell_type": "code",
   "execution_count": 4,
   "id": "118d65a6",
   "metadata": {},
   "outputs": [],
   "source": [
    "text_data = [\"Sun rises from the east\", \"Men and monkeys are cousins\", \n",
    "             \"All that glitters is not gold\",\"Tujh me Rab dekta ho\", \n",
    "             \"All souls are equal\", \"Smile begets from virtue\", \"Death prevails\",\n",
    "             \"Mankind is boundless\", \"Do this today, eat that tomorrow\", \"We are nothing\", \n",
    "             \"Truth is relative\", \"Light is the twin of darkness\", \"Everything lasts forever\", \"The sun set in the west\"]\n",
    "\n",
    "text_label = [\"Absolutely\", \"Who knows\",\"Absolutely\",\"Who knows\", \"Who knows\",\"Absolutely\",\n",
    "             \"Absolutely\",\"Absolutely\",\"Who knows\", \"Not likely\",\"Not likely\",\"Who knows\",\n",
    "              \"Not likely\", \"Absolutely\"]\n",
    "\n",
    "\n",
    "# Corverting the list to nympy array\n",
    "\n",
    "text_data = np.array(text_data)\n",
    "text_label = np.array(text_label)"
   ]
  },
  {
   "cell_type": "code",
   "execution_count": 5,
   "id": "b5343e8e",
   "metadata": {},
   "outputs": [
    {
     "name": "stdout",
     "output_type": "stream",
     "text": [
      "Data.....: Sun rises from the east\n",
      "Label....: Absolutely\n",
      "Data.....: Men and monkeys are cousins\n",
      "Label....: Who knows\n",
      "Data.....: All that glitters is not gold\n",
      "Label....: Absolutely\n",
      "Data.....: Tujh me Rab dekta ho\n",
      "Label....: Who knows\n",
      "Data.....: All souls are equal\n",
      "Label....: Who knows\n"
     ]
    }
   ],
   "source": [
    "for i in range(5):\n",
    "    print(f\"Data.....: {text_data[i]}\")\n",
    "    print(f\"Label....: {text_label[i]}\")"
   ]
  },
  {
   "cell_type": "markdown",
   "id": "d99814d1",
   "metadata": {},
   "source": [
    "# Now creating a pipeline with tensorflow"
   ]
  },
  {
   "cell_type": "code",
   "execution_count": 6,
   "id": "3f45662e",
   "metadata": {},
   "outputs": [],
   "source": [
    "text_pipeline = tf.data.Dataset.from_tensor_slices((text_data, text_label)).batch(3).shuffle(100)"
   ]
  },
  {
   "cell_type": "code",
   "execution_count": 7,
   "id": "83a73707",
   "metadata": {},
   "outputs": [],
   "source": [
    "a1,a2 = next(iter(text_pipeline))"
   ]
  },
  {
   "cell_type": "code",
   "execution_count": 8,
   "id": "82f23271",
   "metadata": {},
   "outputs": [
    {
     "name": "stdout",
     "output_type": "stream",
     "text": [
      "[b'Death prevails' b'Mankind is boundless'\n",
      " b'Do this today, eat that tomorrow'] [b'Absolutely' b'Absolutely' b'Who knows']\n"
     ]
    }
   ],
   "source": [
    "print(a1.numpy(), a2.numpy())"
   ]
  },
  {
   "cell_type": "code",
   "execution_count": 9,
   "id": "443f9b1f",
   "metadata": {},
   "outputs": [
    {
     "name": "stdout",
     "output_type": "stream",
     "text": [
      "[b'Absolutely' b'Absolutely' b'Who knows']\n",
      "[b'Not likely' b'Absolutely']\n",
      "[b'Absolutely' b'Who knows' b'Absolutely']\n"
     ]
    }
   ],
   "source": [
    "for i in range(3):\n",
    "    a1,a2 = next(iter(text_pipeline))\n",
    "    print(a2.numpy())"
   ]
  },
  {
   "cell_type": "markdown",
   "id": "2466e11f",
   "metadata": {},
   "source": [
    "# Lets work with image data from Keras "
   ]
  },
  {
   "cell_type": "markdown",
   "id": "9759ccce",
   "metadata": {},
   "source": [
    "Loaiding the data from kreas"
   ]
  },
  {
   "cell_type": "code",
   "execution_count": 10,
   "id": "6f100883",
   "metadata": {},
   "outputs": [
    {
     "name": "stdout",
     "output_type": "stream",
     "text": [
      "(50000, 32, 32, 3)\n",
      "(50000, 1)\n",
      "(10000, 32, 32, 3)\n",
      "(10000, 1)\n"
     ]
    }
   ],
   "source": [
    "(X_train, Y_train), (X_test, Y_test) = tf.keras.datasets.cifar10.load_data()\n",
    "\n",
    "print(X_train.shape)\n",
    "print(Y_train.shape)\n",
    "print(X_test.shape)\n",
    "print(Y_test.shape)"
   ]
  },
  {
   "cell_type": "code",
   "execution_count": 11,
   "id": "d81e4695",
   "metadata": {},
   "outputs": [
    {
     "name": "stdout",
     "output_type": "stream",
     "text": [
      "[5]\n"
     ]
    },
    {
     "data": {
      "image/png": "[encoded data removed]",
      "text/plain": [
       "<Figure size 432x288 with 1 Axes>"
      ]
     },
     "metadata": {
      "needs_background": "light"
     },
     "output_type": "display_data"
    }
   ],
   "source": [
    "data = 500\n",
    "plt.imshow(X_train[data])\n",
    "print(Y_train[data])"
   ]
  },
  {
   "cell_type": "code",
   "execution_count": 12,
   "id": "4d70ecf9",
   "metadata": {},
   "outputs": [
    {
     "name": "stdout",
     "output_type": "stream",
     "text": [
      "[0 1 2 3 4 5 6 7 8 9]\n"
     ]
    }
   ],
   "source": [
    "print(np.unique(Y_train))"
   ]
  },
  {
   "cell_type": "markdown",
   "id": "c5527b53",
   "metadata": {},
   "source": [
    "# Now lets create a pipeline for image data"
   ]
  },
  {
   "cell_type": "code",
   "execution_count": 13,
   "id": "d615041a",
   "metadata": {},
   "outputs": [],
   "source": [
    "Img_pipeline = tf.data.Dataset.from_tensor_slices((X_train, Y_train)).batch(3).shuffle(50000)"
   ]
  },
  {
   "cell_type": "code",
   "execution_count": 14,
   "id": "330d4824",
   "metadata": {},
   "outputs": [],
   "source": [
    "X_train_1 = X_train / 255\n",
    "Y_train_1 = to_categorical(Y_train, len(np.unique(Y_train)))"
   ]
  },
  {
   "cell_type": "code",
   "execution_count": 15,
   "id": "aa1956e8",
   "metadata": {},
   "outputs": [
    {
     "name": "stdout",
     "output_type": "stream",
     "text": [
      "[[0. 0. 0. ... 0. 0. 0.]\n",
      " [0. 0. 0. ... 0. 0. 1.]\n",
      " [0. 0. 0. ... 0. 0. 1.]\n",
      " ...\n",
      " [0. 0. 0. ... 0. 0. 1.]\n",
      " [0. 1. 0. ... 0. 0. 0.]\n",
      " [0. 1. 0. ... 0. 0. 0.]]\n"
     ]
    }
   ],
   "source": [
    "print(Y_train_1)"
   ]
  },
  {
   "cell_type": "code",
   "execution_count": 16,
   "id": "90358293",
   "metadata": {},
   "outputs": [],
   "source": [
    "Img_pipeline_2 = tf.data.Dataset.from_tensor_slices((X_train_1, Y_train_1)).batch(512).shuffle(50000)"
   ]
  },
  {
   "cell_type": "code",
   "execution_count": 17,
   "id": "625bcd35",
   "metadata": {},
   "outputs": [],
   "source": [
    "b1, b2 = next(iter(Img_pipeline_2))"
   ]
  },
  {
   "cell_type": "code",
   "execution_count": 18,
   "id": "e2943675",
   "metadata": {},
   "outputs": [
    {
     "name": "stdout",
     "output_type": "stream",
     "text": [
      "[[0. 0. 0. ... 0. 0. 1.]\n",
      " [0. 0. 1. ... 0. 0. 0.]\n",
      " [0. 0. 0. ... 1. 0. 0.]\n",
      " ...\n",
      " [0. 1. 0. ... 0. 0. 0.]\n",
      " [0. 0. 0. ... 0. 0. 0.]\n",
      " [0. 0. 0. ... 0. 0. 0.]]\n",
      "[[1. 0. 0. ... 0. 0. 0.]\n",
      " [1. 0. 0. ... 0. 0. 0.]\n",
      " [0. 0. 0. ... 0. 0. 0.]\n",
      " ...\n",
      " [0. 0. 0. ... 0. 0. 0.]\n",
      " [0. 0. 0. ... 0. 0. 0.]\n",
      " [0. 1. 0. ... 0. 0. 0.]]\n",
      "[[1. 0. 0. ... 0. 0. 0.]\n",
      " [0. 1. 0. ... 0. 0. 0.]\n",
      " [0. 0. 0. ... 0. 0. 0.]\n",
      " ...\n",
      " [0. 1. 0. ... 0. 0. 0.]\n",
      " [0. 0. 0. ... 1. 0. 0.]\n",
      " [0. 0. 0. ... 1. 0. 0.]]\n",
      "[[0. 1. 0. ... 0. 0. 0.]\n",
      " [0. 0. 0. ... 0. 0. 0.]\n",
      " [0. 0. 0. ... 0. 0. 1.]\n",
      " ...\n",
      " [0. 0. 0. ... 0. 0. 0.]\n",
      " [0. 1. 0. ... 0. 0. 0.]\n",
      " [1. 0. 0. ... 0. 0. 0.]]\n",
      "[[0. 0. 0. ... 0. 0. 0.]\n",
      " [0. 0. 0. ... 0. 0. 0.]\n",
      " [0. 0. 0. ... 0. 0. 0.]\n",
      " ...\n",
      " [0. 0. 1. ... 0. 0. 0.]\n",
      " [0. 1. 0. ... 0. 0. 0.]\n",
      " [0. 0. 0. ... 0. 0. 0.]]\n"
     ]
    }
   ],
   "source": [
    "for i in range(5):\n",
    "    b1, b2 = next(iter(Img_pipeline_2))\n",
    "    print(b2.numpy())"
   ]
  },
  {
   "cell_type": "code",
   "execution_count": null,
   "id": "ed3bbebf",
   "metadata": {},
   "outputs": [],
   "source": []
  }
 ],
 "metadata": {
  "kernelspec": {
   "display_name": "Python 3 (ipykernel)",
   "language": "python",
   "name": "python3"
  },
  "language_info": {
   "codemirror_mode": {
    "name": "ipython",
    "version": 3
   },
   "file_extension": ".py",
   "mimetype": "text/x-python",
   "name": "python",
   "nbconvert_exporter": "python",
   "pygments_lexer": "ipython3",
   "version": "3.9.12"
  }
 },
 "nbformat": 4,
 "nbformat_minor": 5
}
